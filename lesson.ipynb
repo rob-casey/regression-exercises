{
 "cells": [
  {
   "cell_type": "code",
   "execution_count": 1,
   "id": "2d031b3b",
   "metadata": {},
   "outputs": [],
   "source": [
    "# os, to see if a file exists\n",
    "import os\n",
    "# tabular data manipulation\n",
    "import numpy as np\n",
    "import pandas as pd\n",
    "# data visualizations\n",
    "import matplotlib.pyplot as plt\n",
    "import seaborn as sns\n",
    "# train test split\n",
    "from sklearn.model_selection import train_test_split"
   ]
  },
  {
   "cell_type": "markdown",
   "id": "0c95c983",
   "metadata": {},
   "source": [
    "Function for acquiring dataset"
   ]
  },
  {
   "cell_type": "code",
   "execution_count": 2,
   "id": "47f6812f",
   "metadata": {},
   "outputs": [
    {
     "data": {
      "text/plain": [
       "True"
      ]
     },
     "execution_count": 2,
     "metadata": {},
     "output_type": "execute_result"
    }
   ],
   "source": [
    "def acquire_student_grades():\n",
    "    if os.path.exists('student_grades.csv'):\n",
    "        return pd.read_csv('student_grades.csv')\n",
    "    else:\n",
    "        print('Good luck next time')\n",
    "        return None\n",
    "os.path.exists('student_grades.csv')"
   ]
  },
  {
   "cell_type": "code",
   "execution_count": 3,
   "id": "7f2c02d8",
   "metadata": {},
   "outputs": [],
   "source": [
    "df = acquire_student_grades()"
   ]
  },
  {
   "cell_type": "markdown",
   "id": "28a5d83a",
   "metadata": {},
   "source": [
    "Shape, Info, Describe"
   ]
  },
  {
   "cell_type": "code",
   "execution_count": 4,
   "id": "0e3e5c63",
   "metadata": {},
   "outputs": [
    {
     "data": {
      "text/plain": [
       "(104, 5)"
      ]
     },
     "execution_count": 4,
     "metadata": {},
     "output_type": "execute_result"
    }
   ],
   "source": [
    "df.shape"
   ]
  },
  {
   "cell_type": "code",
   "execution_count": 5,
   "id": "4041b3a6",
   "metadata": {},
   "outputs": [
    {
     "data": {
      "text/html": [
       "<div>\n",
       "<style scoped>\n",
       "    .dataframe tbody tr th:only-of-type {\n",
       "        vertical-align: middle;\n",
       "    }\n",
       "\n",
       "    .dataframe tbody tr th {\n",
       "        vertical-align: top;\n",
       "    }\n",
       "\n",
       "    .dataframe thead th {\n",
       "        text-align: right;\n",
       "    }\n",
       "</style>\n",
       "<table border=\"1\" class=\"dataframe\">\n",
       "  <thead>\n",
       "    <tr style=\"text-align: right;\">\n",
       "      <th></th>\n",
       "      <th>student_id</th>\n",
       "      <th>exam1</th>\n",
       "      <th>exam2</th>\n",
       "      <th>exam3</th>\n",
       "      <th>final_grade</th>\n",
       "    </tr>\n",
       "  </thead>\n",
       "  <tbody>\n",
       "    <tr>\n",
       "      <th>count</th>\n",
       "      <td>104.000000</td>\n",
       "      <td>103.000000</td>\n",
       "      <td>104.000000</td>\n",
       "      <td>103.000000</td>\n",
       "      <td>104.000000</td>\n",
       "    </tr>\n",
       "    <tr>\n",
       "      <th>mean</th>\n",
       "      <td>52.500000</td>\n",
       "      <td>78.398058</td>\n",
       "      <td>77.307692</td>\n",
       "      <td>84.242718</td>\n",
       "      <td>81.692308</td>\n",
       "    </tr>\n",
       "    <tr>\n",
       "      <th>std</th>\n",
       "      <td>30.166206</td>\n",
       "      <td>14.339948</td>\n",
       "      <td>10.295703</td>\n",
       "      <td>8.709321</td>\n",
       "      <td>10.918122</td>\n",
       "    </tr>\n",
       "    <tr>\n",
       "      <th>min</th>\n",
       "      <td>1.000000</td>\n",
       "      <td>57.000000</td>\n",
       "      <td>65.000000</td>\n",
       "      <td>70.000000</td>\n",
       "      <td>65.000000</td>\n",
       "    </tr>\n",
       "    <tr>\n",
       "      <th>25%</th>\n",
       "      <td>26.750000</td>\n",
       "      <td>70.000000</td>\n",
       "      <td>70.000000</td>\n",
       "      <td>78.000000</td>\n",
       "      <td>72.000000</td>\n",
       "    </tr>\n",
       "    <tr>\n",
       "      <th>50%</th>\n",
       "      <td>52.500000</td>\n",
       "      <td>79.000000</td>\n",
       "      <td>75.000000</td>\n",
       "      <td>85.000000</td>\n",
       "      <td>81.000000</td>\n",
       "    </tr>\n",
       "    <tr>\n",
       "      <th>75%</th>\n",
       "      <td>78.250000</td>\n",
       "      <td>92.000000</td>\n",
       "      <td>89.000000</td>\n",
       "      <td>94.000000</td>\n",
       "      <td>93.000000</td>\n",
       "    </tr>\n",
       "    <tr>\n",
       "      <th>max</th>\n",
       "      <td>104.000000</td>\n",
       "      <td>100.000000</td>\n",
       "      <td>93.000000</td>\n",
       "      <td>96.000000</td>\n",
       "      <td>97.000000</td>\n",
       "    </tr>\n",
       "  </tbody>\n",
       "</table>\n",
       "</div>"
      ],
      "text/plain": [
       "       student_id       exam1       exam2       exam3  final_grade\n",
       "count  104.000000  103.000000  104.000000  103.000000   104.000000\n",
       "mean    52.500000   78.398058   77.307692   84.242718    81.692308\n",
       "std     30.166206   14.339948   10.295703    8.709321    10.918122\n",
       "min      1.000000   57.000000   65.000000   70.000000    65.000000\n",
       "25%     26.750000   70.000000   70.000000   78.000000    72.000000\n",
       "50%     52.500000   79.000000   75.000000   85.000000    81.000000\n",
       "75%     78.250000   92.000000   89.000000   94.000000    93.000000\n",
       "max    104.000000  100.000000   93.000000   96.000000    97.000000"
      ]
     },
     "execution_count": 5,
     "metadata": {},
     "output_type": "execute_result"
    }
   ],
   "source": [
    "df.describe()"
   ]
  },
  {
   "cell_type": "code",
   "execution_count": 6,
   "id": "187bdf32",
   "metadata": {},
   "outputs": [
    {
     "name": "stdout",
     "output_type": "stream",
     "text": [
      "<class 'pandas.core.frame.DataFrame'>\n",
      "RangeIndex: 104 entries, 0 to 103\n",
      "Data columns (total 5 columns):\n",
      " #   Column       Non-Null Count  Dtype  \n",
      "---  ------       --------------  -----  \n",
      " 0   student_id   104 non-null    int64  \n",
      " 1   exam1        103 non-null    float64\n",
      " 2   exam2        104 non-null    int64  \n",
      " 3   exam3        103 non-null    float64\n",
      " 4   final_grade  104 non-null    int64  \n",
      "dtypes: float64(2), int64(3)\n",
      "memory usage: 4.2 KB\n"
     ]
    }
   ],
   "source": [
    "df.info()"
   ]
  },
  {
   "cell_type": "markdown",
   "id": "dc389a80",
   "metadata": {},
   "source": [
    "Meaningful Takeaways:\n",
    "\n",
    "    - student_id, potentially arbitrary\n",
    "    - exam 1 and 3 are floats, while exam 2 is an integer\n",
    "    - final grade is also an integer\n",
    "    - three exam grades\n",
    "    - 104 entries, except e.1 and e.3 are missing 1 row each"
   ]
  },
  {
   "cell_type": "code",
   "execution_count": 7,
   "id": "2567bb5c",
   "metadata": {},
   "outputs": [
    {
     "data": {
      "text/html": [
       "<div>\n",
       "<style scoped>\n",
       "    .dataframe tbody tr th:only-of-type {\n",
       "        vertical-align: middle;\n",
       "    }\n",
       "\n",
       "    .dataframe tbody tr th {\n",
       "        vertical-align: top;\n",
       "    }\n",
       "\n",
       "    .dataframe thead th {\n",
       "        text-align: right;\n",
       "    }\n",
       "</style>\n",
       "<table border=\"1\" class=\"dataframe\">\n",
       "  <thead>\n",
       "    <tr style=\"text-align: right;\">\n",
       "      <th></th>\n",
       "      <th>student_id</th>\n",
       "      <th>exam1</th>\n",
       "      <th>exam2</th>\n",
       "      <th>exam3</th>\n",
       "      <th>final_grade</th>\n",
       "    </tr>\n",
       "  </thead>\n",
       "  <tbody>\n",
       "    <tr>\n",
       "      <th>0</th>\n",
       "      <td>1</td>\n",
       "      <td>100.0</td>\n",
       "      <td>90</td>\n",
       "      <td>95.0</td>\n",
       "      <td>96</td>\n",
       "    </tr>\n",
       "    <tr>\n",
       "      <th>1</th>\n",
       "      <td>2</td>\n",
       "      <td>98.0</td>\n",
       "      <td>93</td>\n",
       "      <td>96.0</td>\n",
       "      <td>95</td>\n",
       "    </tr>\n",
       "    <tr>\n",
       "      <th>2</th>\n",
       "      <td>3</td>\n",
       "      <td>85.0</td>\n",
       "      <td>83</td>\n",
       "      <td>87.0</td>\n",
       "      <td>87</td>\n",
       "    </tr>\n",
       "    <tr>\n",
       "      <th>3</th>\n",
       "      <td>4</td>\n",
       "      <td>83.0</td>\n",
       "      <td>80</td>\n",
       "      <td>86.0</td>\n",
       "      <td>85</td>\n",
       "    </tr>\n",
       "    <tr>\n",
       "      <th>4</th>\n",
       "      <td>5</td>\n",
       "      <td>93.0</td>\n",
       "      <td>90</td>\n",
       "      <td>96.0</td>\n",
       "      <td>97</td>\n",
       "    </tr>\n",
       "  </tbody>\n",
       "</table>\n",
       "</div>"
      ],
      "text/plain": [
       "   student_id  exam1  exam2  exam3  final_grade\n",
       "0           1  100.0     90   95.0           96\n",
       "1           2   98.0     93   96.0           95\n",
       "2           3   85.0     83   87.0           87\n",
       "3           4   83.0     80   86.0           85\n",
       "4           5   93.0     90   96.0           97"
      ]
     },
     "execution_count": 7,
     "metadata": {},
     "output_type": "execute_result"
    }
   ],
   "source": [
    "df.head()"
   ]
  },
  {
   "cell_type": "markdown",
   "id": "70a31749",
   "metadata": {},
   "source": [
    "Investigations:\n",
    "\n",
    "    - e.1 or e.3 -> floats\n",
    "    - If current floats are all .0 -> integer\n",
    "    - Where are the missing values?"
   ]
  },
  {
   "cell_type": "markdown",
   "id": "d765585d",
   "metadata": {},
   "source": [
    "What do we want to know about the data?\n",
    "\n",
    "What do we want to predict?\n",
    "\n",
    "    - Estimate failure -> Final Grade = Target"
   ]
  },
  {
   "cell_type": "markdown",
   "id": "38dcad4e",
   "metadata": {},
   "source": [
    "Planning and problem statement:\n",
    "\n",
    "    - Can we predict the final grade of a given student will be based on previous exam scores?"
   ]
  },
  {
   "cell_type": "markdown",
   "id": "f189bc85",
   "metadata": {},
   "source": [
    "Drop student id column, no additional value."
   ]
  },
  {
   "cell_type": "code",
   "execution_count": 8,
   "id": "1ceaf2eb",
   "metadata": {},
   "outputs": [],
   "source": [
    "df = df.drop(columns='student_id')"
   ]
  },
  {
   "cell_type": "markdown",
   "id": "8015d21d",
   "metadata": {},
   "source": [
    "Bump up the index by 1 for every instance, if desired\n",
    "\n",
    "    - df.index = [i + 1 for i in df.index.to_list()]"
   ]
  },
  {
   "cell_type": "code",
   "execution_count": 9,
   "id": "26487419",
   "metadata": {},
   "outputs": [],
   "source": [
    "df.index = [i + 1 for i in df.index.to_list()]"
   ]
  },
  {
   "cell_type": "code",
   "execution_count": 10,
   "id": "53dac938",
   "metadata": {},
   "outputs": [
    {
     "data": {
      "text/html": [
       "<div>\n",
       "<style scoped>\n",
       "    .dataframe tbody tr th:only-of-type {\n",
       "        vertical-align: middle;\n",
       "    }\n",
       "\n",
       "    .dataframe tbody tr th {\n",
       "        vertical-align: top;\n",
       "    }\n",
       "\n",
       "    .dataframe thead th {\n",
       "        text-align: right;\n",
       "    }\n",
       "</style>\n",
       "<table border=\"1\" class=\"dataframe\">\n",
       "  <thead>\n",
       "    <tr style=\"text-align: right;\">\n",
       "      <th></th>\n",
       "      <th>exam1</th>\n",
       "      <th>exam2</th>\n",
       "      <th>exam3</th>\n",
       "      <th>final_grade</th>\n",
       "    </tr>\n",
       "  </thead>\n",
       "  <tbody>\n",
       "    <tr>\n",
       "      <th>1</th>\n",
       "      <td>100.0</td>\n",
       "      <td>90</td>\n",
       "      <td>95.0</td>\n",
       "      <td>96</td>\n",
       "    </tr>\n",
       "    <tr>\n",
       "      <th>2</th>\n",
       "      <td>98.0</td>\n",
       "      <td>93</td>\n",
       "      <td>96.0</td>\n",
       "      <td>95</td>\n",
       "    </tr>\n",
       "    <tr>\n",
       "      <th>3</th>\n",
       "      <td>85.0</td>\n",
       "      <td>83</td>\n",
       "      <td>87.0</td>\n",
       "      <td>87</td>\n",
       "    </tr>\n",
       "    <tr>\n",
       "      <th>4</th>\n",
       "      <td>83.0</td>\n",
       "      <td>80</td>\n",
       "      <td>86.0</td>\n",
       "      <td>85</td>\n",
       "    </tr>\n",
       "    <tr>\n",
       "      <th>5</th>\n",
       "      <td>93.0</td>\n",
       "      <td>90</td>\n",
       "      <td>96.0</td>\n",
       "      <td>97</td>\n",
       "    </tr>\n",
       "  </tbody>\n",
       "</table>\n",
       "</div>"
      ],
      "text/plain": [
       "   exam1  exam2  exam3  final_grade\n",
       "1  100.0     90   95.0           96\n",
       "2   98.0     93   96.0           95\n",
       "3   85.0     83   87.0           87\n",
       "4   83.0     80   86.0           85\n",
       "5   93.0     90   96.0           97"
      ]
     },
     "execution_count": 10,
     "metadata": {},
     "output_type": "execute_result"
    }
   ],
   "source": [
    "df.head()"
   ]
  },
  {
   "cell_type": "markdown",
   "id": "a3ec4880",
   "metadata": {},
   "source": [
    "Tackle missing/null"
   ]
  },
  {
   "cell_type": "code",
   "execution_count": 11,
   "id": "78e9ae2b",
   "metadata": {},
   "outputs": [
    {
     "data": {
      "text/plain": [
       "exam1          1\n",
       "exam2          0\n",
       "exam3          1\n",
       "final_grade    0\n",
       "dtype: int64"
      ]
     },
     "execution_count": 11,
     "metadata": {},
     "output_type": "execute_result"
    }
   ],
   "source": [
    "df.isna().sum()"
   ]
  },
  {
   "cell_type": "markdown",
   "id": "bb873911",
   "metadata": {},
   "source": [
    "Boolean Mask"
   ]
  },
  {
   "cell_type": "code",
   "execution_count": 12,
   "id": "b3edad54",
   "metadata": {},
   "outputs": [
    {
     "data": {
      "text/plain": [
       "False    103\n",
       "True       1\n",
       "Name: exam3, dtype: int64"
      ]
     },
     "execution_count": 12,
     "metadata": {},
     "output_type": "execute_result"
    }
   ],
   "source": [
    "df['exam3'].isna().value_counts()"
   ]
  },
  {
   "cell_type": "code",
   "execution_count": 13,
   "id": "f5602754",
   "metadata": {},
   "outputs": [
    {
     "data": {
      "text/plain": [
       "False    103\n",
       "True       1\n",
       "Name: exam1, dtype: int64"
      ]
     },
     "execution_count": 13,
     "metadata": {},
     "output_type": "execute_result"
    }
   ],
   "source": [
    "df['exam1'].isna().value_counts()"
   ]
  },
  {
   "cell_type": "markdown",
   "id": "9f93dc59",
   "metadata": {},
   "source": [
    "Shows the values werent in the same row"
   ]
  },
  {
   "cell_type": "code",
   "execution_count": 14,
   "id": "f823dee1",
   "metadata": {},
   "outputs": [
    {
     "data": {
      "text/plain": [
       "(102, 4)"
      ]
     },
     "execution_count": 14,
     "metadata": {},
     "output_type": "execute_result"
    }
   ],
   "source": [
    "df.dropna().shape"
   ]
  },
  {
   "cell_type": "code",
   "execution_count": 15,
   "id": "a39d04f0",
   "metadata": {},
   "outputs": [],
   "source": [
    "df = df.dropna()"
   ]
  },
  {
   "cell_type": "code",
   "execution_count": 16,
   "id": "f893d72a",
   "metadata": {},
   "outputs": [
    {
     "data": {
      "text/plain": [
       "(102, 4)"
      ]
     },
     "execution_count": 16,
     "metadata": {},
     "output_type": "execute_result"
    }
   ],
   "source": [
    "df.shape"
   ]
  },
  {
   "cell_type": "markdown",
   "id": "634079dc",
   "metadata": {},
   "source": [
    "Float vs. Integer\n",
    "    \n",
    "    - does e.1 and e.3 need to be in float?\n",
    "    "
   ]
  },
  {
   "cell_type": "markdown",
   "id": "7fd3efe9",
   "metadata": {},
   "source": [
    "    - Can compare a float value to an int value and assess the truth value upon retention"
   ]
  },
  {
   "cell_type": "code",
   "execution_count": 17,
   "id": "8960b7b6",
   "metadata": {},
   "outputs": [
    {
     "data": {
      "text/plain": [
       "True    102\n",
       "Name: exam1, dtype: int64"
      ]
     },
     "execution_count": 17,
     "metadata": {},
     "output_type": "execute_result"
    }
   ],
   "source": [
    "# Strat 1\n",
    "(df['exam1'].astype(int) == df['exam1']).value_counts()"
   ]
  },
  {
   "cell_type": "code",
   "execution_count": 18,
   "id": "1aea8aa3",
   "metadata": {},
   "outputs": [
    {
     "data": {
      "text/plain": [
       "True    102\n",
       "Name: exam1, dtype: int64"
      ]
     },
     "execution_count": 18,
     "metadata": {},
     "output_type": "execute_result"
    }
   ],
   "source": [
    "# Strat 2 - String always ends in 0\n",
    "df['exam1'].astype(str).str.endswith('0').value_counts()"
   ]
  },
  {
   "cell_type": "code",
   "execution_count": 19,
   "id": "1b38b2df",
   "metadata": {},
   "outputs": [
    {
     "data": {
      "text/plain": [
       "True    102\n",
       "Name: exam3, dtype: int64"
      ]
     },
     "execution_count": 19,
     "metadata": {},
     "output_type": "execute_result"
    }
   ],
   "source": [
    "df['exam3'].astype(str).str.endswith('0').value_counts()"
   ]
  },
  {
   "cell_type": "markdown",
   "id": "e141d1c7",
   "metadata": {},
   "source": [
    "Conclude that everything can be cast as an integer. No additional value for float."
   ]
  },
  {
   "cell_type": "code",
   "execution_count": 20,
   "id": "cfa66622",
   "metadata": {},
   "outputs": [
    {
     "data": {
      "text/plain": [
       "1      95\n",
       "2      96\n",
       "3      87\n",
       "4      86\n",
       "5      96\n",
       "       ..\n",
       "100    78\n",
       "101    79\n",
       "102    70\n",
       "103    75\n",
       "104    78\n",
       "Name: exam3, Length: 102, dtype: int64"
      ]
     },
     "execution_count": 20,
     "metadata": {},
     "output_type": "execute_result"
    }
   ],
   "source": [
    "df['exam1'].astype(int)\n",
    "df['exam3'].astype(int)"
   ]
  },
  {
   "cell_type": "code",
   "execution_count": 21,
   "id": "9e19b019",
   "metadata": {},
   "outputs": [
    {
     "name": "stdout",
     "output_type": "stream",
     "text": [
      "<class 'pandas.core.frame.DataFrame'>\n",
      "Int64Index: 102 entries, 1 to 104\n",
      "Data columns (total 4 columns):\n",
      " #   Column       Non-Null Count  Dtype  \n",
      "---  ------       --------------  -----  \n",
      " 0   exam1        102 non-null    float64\n",
      " 1   exam2        102 non-null    int64  \n",
      " 2   exam3        102 non-null    float64\n",
      " 3   final_grade  102 non-null    int64  \n",
      "dtypes: float64(2), int64(2)\n",
      "memory usage: 4.0 KB\n"
     ]
    }
   ],
   "source": [
    "df.info()"
   ]
  },
  {
   "cell_type": "code",
   "execution_count": 22,
   "id": "5c4ca794",
   "metadata": {},
   "outputs": [],
   "source": [
    "def clean_student_grades(df):\n",
    "    '''\n",
    "    takes in a single pandas dataframe with the expected formatting observed in student_grades\n",
    "    It will remove the student id column\n",
    "    It will remove any records containing null values\n",
    "    and it will cast any floats into integers\n",
    "    \n",
    "    argument: df, a pandas DataFrame\n",
    "    return: df, a pandas Dataframe (cleaned)\n",
    "    '''\n",
    "    \n",
    "    # drop the student id column\n",
    "    df = df.drop(columns='student_id')\n",
    "    \n",
    "    # drop the missing/null\n",
    "    df = df.dropna()\n",
    "    \n",
    "    # cast the two series with floats into ints\n",
    "    df = df.astype(int)\n",
    "    return df"
   ]
  },
  {
   "cell_type": "code",
   "execution_count": 23,
   "id": "54bc6f3f",
   "metadata": {},
   "outputs": [],
   "source": [
    "def split_my_students(df):\n",
    "    '''\n",
    "    Arguments: df, a single pandas dataframe\n",
    "    Returns: train, validate, test - Three Pandas DataFrames\n",
    "    '''\n",
    "    \n",
    "    train_val, test = train_test_split(df, \n",
    "                                       random_state=1423,\n",
    "                                       train_size=0.7) # no stratify needed\n",
    "    \n",
    "    train, validate = train_test_split(train_val, \n",
    "                                       random_state=1423, \n",
    "                                       train_size=0.8)\n",
    "    \n",
    "    return train, validate, test\n",
    "    "
   ]
  },
  {
   "cell_type": "code",
   "execution_count": 24,
   "id": "fd71e4c4",
   "metadata": {},
   "outputs": [],
   "source": [
    "def wrangle_grades():\n",
    "    '''\n",
    "    wrangle goes through process of \n",
    "    acquiring students grades,\n",
    "    clean students grades,\n",
    "    and split students grades into\n",
    "    train, validate and test pandas DataFrames\n",
    "    '''\n",
    "    return split_my_students(clean_student_grades(acquire_student_grades()))\n",
    "    "
   ]
  },
  {
   "cell_type": "code",
   "execution_count": 25,
   "id": "f6bd5854",
   "metadata": {},
   "outputs": [],
   "source": [
    "train, validate, test = wrangle_grades()"
   ]
  },
  {
   "cell_type": "code",
   "execution_count": 26,
   "id": "d3dca032",
   "metadata": {},
   "outputs": [
    {
     "data": {
      "text/plain": [
       "((56, 4), (15, 4), (31, 4))"
      ]
     },
     "execution_count": 26,
     "metadata": {},
     "output_type": "execute_result"
    }
   ],
   "source": [
    "train.shape, validate.shape, test.shape"
   ]
  },
  {
   "cell_type": "code",
   "execution_count": 27,
   "id": "ebf208f8",
   "metadata": {},
   "outputs": [
    {
     "data": {
      "image/png": "[encoded data removed]",
      "text/plain": [
       "<Figure size 640x480 with 1 Axes>"
      ]
     },
     "metadata": {},
     "output_type": "display_data"
    },
    {
     "data": {
      "image/png": "[encoded data removed]",
      "text/plain": [
       "<Figure size 640x480 with 1 Axes>"
      ]
     },
     "metadata": {},
     "output_type": "display_data"
    },
    {
     "data": {
      "image/png": "[encoded data removed]",
      "text/plain": [
       "<Figure size 640x480 with 1 Axes>"
      ]
     },
     "metadata": {},
     "output_type": "display_data"
    },
    {
     "data": {
      "image/png": "[encoded data removed]",
      "text/plain": [
       "<Figure size 640x480 with 1 Axes>"
      ]
     },
     "metadata": {},
     "output_type": "display_data"
    }
   ],
   "source": [
    "for col in train:\n",
    "    train[col].hist()\n",
    "    plt.title(f'Distribution of {col}')\n",
    "    plt.show()"
   ]
  },
  {
   "cell_type": "markdown",
   "id": "ac897946",
   "metadata": {},
   "source": [
    "Data isnt super normal\n",
    "\n",
    "    - Is this because the sample size is smaller\n",
    "    - Is this because there are different types of students\n",
    "    - If there are different types, how do I know?\n",
    "    - Will this effect my modeling?"
   ]
  },
  {
   "cell_type": "code",
   "execution_count": 28,
   "id": "8a7a6965",
   "metadata": {},
   "outputs": [
    {
     "data": {
      "image/png": "[encoded data removed]",
      "text/plain": [
       "<Figure size 640x480 with 1 Axes>"
      ]
     },
     "metadata": {},
     "output_type": "display_data"
    },
    {
     "data": {
      "image/png": "[encoded data removed]",
      "text/plain": [
       "<Figure size 640x480 with 1 Axes>"
      ]
     },
     "metadata": {},
     "output_type": "display_data"
    },
    {
     "data": {
      "image/png": "[encoded data removed]",
      "text/plain": [
       "<Figure size 640x480 with 1 Axes>"
      ]
     },
     "metadata": {},
     "output_type": "display_data"
    },
    {
     "data": {
      "image/png": "[encoded data removed]",
      "text/plain": [
       "<Figure size 640x480 with 1 Axes>"
      ]
     },
     "metadata": {},
     "output_type": "display_data"
    }
   ],
   "source": [
    "for col in train:\n",
    "    sns.boxplot(data=train, x=col)\n",
    "    plt.title(f'Distribution of {col}')\n",
    "    plt.show()"
   ]
  },
  {
   "cell_type": "code",
   "execution_count": null,
   "id": "5fedd6ce",
   "metadata": {},
   "outputs": [],
   "source": []
  },
  {
   "cell_type": "code",
   "execution_count": null,
   "id": "798e319f",
   "metadata": {},
   "outputs": [],
   "source": []
  },
  {
   "cell_type": "code",
   "execution_count": null,
   "id": "c323076e",
   "metadata": {},
   "outputs": [],
   "source": []
  },
  {
   "cell_type": "code",
   "execution_count": null,
   "id": "e124dee9",
   "metadata": {},
   "outputs": [],
   "source": []
  },
  {
   "cell_type": "code",
   "execution_count": null,
   "id": "50863e98",
   "metadata": {},
   "outputs": [],
   "source": []
  },
  {
   "cell_type": "code",
   "execution_count": null,
   "id": "61ce2c33",
   "metadata": {},
   "outputs": [],
   "source": []
  },
  {
   "cell_type": "code",
   "execution_count": null,
   "id": "c2bed86e",
   "metadata": {},
   "outputs": [],
   "source": []
  }
 ],
 "metadata": {
  "kernelspec": {
   "display_name": "Python 3 (ipykernel)",
   "language": "python",
   "name": "python3"
  },
  "language_info": {
   "codemirror_mode": {
    "name": "ipython",
    "version": 3
   },
   "file_extension": ".py",
   "mimetype": "text/x-python",
   "name": "python",
   "nbconvert_exporter": "python",
   "pygments_lexer": "ipython3",
   "version": "3.9.13"
  }
 },
 "nbformat": 4,
 "nbformat_minor": 5
}
